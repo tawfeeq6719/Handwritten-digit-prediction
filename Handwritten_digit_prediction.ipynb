{
  "nbformat": 4,
  "nbformat_minor": 0,
  "metadata": {
    "colab": {
      "provenance": [],
      "authorship_tag": "ABX9TyPkYSzOIKkEGOalmOCYoPPN",
      "include_colab_link": true
    },
    "kernelspec": {
      "name": "python3",
      "display_name": "Python 3"
    },
    "language_info": {
      "name": "python"
    }
  },
  "cells": [
    {
      "cell_type": "markdown",
      "metadata": {
        "id": "view-in-github",
        "colab_type": "text"
      },
      "source": [
        "<a href=\"https://colab.research.google.com/github/tawfeeq6719/Handwritten-digit-prediction/blob/main/Handwritten_digit_prediction.ipynb\" target=\"_parent\"><img src=\"https://colab.research.google.com/assets/colab-badge.svg\" alt=\"Open In Colab\"/></a>"
      ]
    },
    {
      "cell_type": "markdown",
      "source": [
        "**HANDWRITTEN DIGIT PREDICTION**"
      ],
      "metadata": {
        "id": "3KggnUY3ux8r"
      }
    },
    {
      "cell_type": "markdown",
      "source": [
        "Objective:\n",
        "\n",
        "The objective of this project is to build a machine learning model that can predict handwritten digits using the Random Forest Classifier algorithm."
      ],
      "metadata": {
        "id": "qWbN_e-tv2Xc"
      }
    },
    {
      "cell_type": "markdown",
      "source": [
        "Data Source:\n",
        "\n",
        "The dataset used in this project is the \"load_digits\" dataset from the scikit-learn library."
      ],
      "metadata": {
        "id": "u-hQRbcPwFN-"
      }
    },
    {
      "cell_type": "markdown",
      "source": [
        "Import Library:"
      ],
      "metadata": {
        "id": "geCl1WvWwQVO"
      }
    },
    {
      "cell_type": "code",
      "source": [
        "from skimage.transform import resize"
      ],
      "metadata": {
        "id": "LxTE4AGb0Wzs"
      },
      "execution_count": 36,
      "outputs": []
    },
    {
      "cell_type": "code",
      "execution_count": 2,
      "metadata": {
        "id": "D_d9a9l28ZqZ"
      },
      "outputs": [],
      "source": [
        "import pandas as pd"
      ]
    },
    {
      "cell_type": "code",
      "source": [
        "import numpy as np"
      ],
      "metadata": {
        "id": "faKMba3zCyN2"
      },
      "execution_count": 3,
      "outputs": []
    },
    {
      "cell_type": "code",
      "source": [
        "import matplotlib.pyplot as plt\n"
      ],
      "metadata": {
        "id": "wk46wEIeC1Mk"
      },
      "execution_count": 4,
      "outputs": []
    },
    {
      "cell_type": "code",
      "source": [
        "from sklearn.datasets import load_digits"
      ],
      "metadata": {
        "id": "StKF3VECC5Hr"
      },
      "execution_count": 5,
      "outputs": []
    },
    {
      "cell_type": "code",
      "source": [
        "from sklearn.model_selection import train_test_split"
      ],
      "metadata": {
        "id": "RW9MRvzkGZfk"
      },
      "execution_count": 6,
      "outputs": []
    },
    {
      "cell_type": "code",
      "source": [
        "from sklearn.metrics import confusion_matrix, classification_report"
      ],
      "metadata": {
        "id": "QMrU8nM3I5Pp"
      },
      "execution_count": 7,
      "outputs": []
    },
    {
      "cell_type": "code",
      "source": [
        "from sklearn.ensemble import RandomForestClassifier"
      ],
      "metadata": {
        "id": "Fpn9ZzxyIUv6"
      },
      "execution_count": 8,
      "outputs": []
    },
    {
      "cell_type": "markdown",
      "source": [
        "Import Data:"
      ],
      "metadata": {
        "id": "HsO564Zuwudn"
      }
    },
    {
      "cell_type": "code",
      "source": [
        "df=load_digits()"
      ],
      "metadata": {
        "id": "SMrUUtGhDB1A"
      },
      "execution_count": 9,
      "outputs": []
    },
    {
      "cell_type": "markdown",
      "source": [
        "Describe Data:\n",
        "\n",
        "The dataset consists of images of handwritten digits from 0 to 9. Each image is represented as a 2D array of pixel values"
      ],
      "metadata": {
        "id": "B65Eau5Ww2Bq"
      }
    },
    {
      "cell_type": "markdown",
      "source": [
        "Data Visualization:"
      ],
      "metadata": {
        "id": "Ip9UGNnZw7qY"
      }
    },
    {
      "cell_type": "code",
      "source": [
        "_, axes = plt.subplots(nrows=1, ncols=4, figsize=(10,3))\n",
        "for ax, image, label in zip(axes, df.images, df.target):\n",
        "    ax.set_axis_off()\n",
        "    ax.imshow(image, cmap=plt.cm.gray_r, interpolation=\"nearest\")\n",
        "    ax.set_title(\"Training: %i\" % label)"
      ],
      "metadata": {
        "colab": {
          "base_uri": "https://localhost:8080/",
          "height": 227
        },
        "id": "MoMHb5yqDE3v",
        "outputId": "c3ff4ff2-debb-4c9d-d395-01d3f07c2ff3"
      },
      "execution_count": 10,
      "outputs": [
        {
          "output_type": "display_data",
          "data": {
            "text/plain": [
              "<Figure size 1000x300 with 4 Axes>"
            ],
            "image/png": "[encoded data removed]"
          },
          "metadata": {}
        }
      ]
    },
    {
      "cell_type": "code",
      "source": [
        "df.images.shape"
      ],
      "metadata": {
        "colab": {
          "base_uri": "https://localhost:8080/"
        },
        "id": "Bb2CS6WMEnzo",
        "outputId": "9ba17ea0-20da-44ee-d78b-77bd42546739"
      },
      "execution_count": 11,
      "outputs": [
        {
          "output_type": "execute_result",
          "data": {
            "text/plain": [
              "(1797, 8, 8)"
            ]
          },
          "metadata": {},
          "execution_count": 11
        }
      ]
    },
    {
      "cell_type": "code",
      "source": [
        "df.images[0]"
      ],
      "metadata": {
        "colab": {
          "base_uri": "https://localhost:8080/"
        },
        "id": "5_xvWsczFdcx",
        "outputId": "04debc62-438e-4362-9377-db8198239f87"
      },
      "execution_count": 12,
      "outputs": [
        {
          "output_type": "execute_result",
          "data": {
            "text/plain": [
              "array([[ 0.,  0.,  5., 13.,  9.,  1.,  0.,  0.],\n",
              "       [ 0.,  0., 13., 15., 10., 15.,  5.,  0.],\n",
              "       [ 0.,  3., 15.,  2.,  0., 11.,  8.,  0.],\n",
              "       [ 0.,  4., 12.,  0.,  0.,  8.,  8.,  0.],\n",
              "       [ 0.,  5.,  8.,  0.,  0.,  9.,  8.,  0.],\n",
              "       [ 0.,  4., 11.,  0.,  1., 12.,  7.,  0.],\n",
              "       [ 0.,  2., 14.,  5., 10., 12.,  0.,  0.],\n",
              "       [ 0.,  0.,  6., 13., 10.,  0.,  0.,  0.]])"
            ]
          },
          "metadata": {},
          "execution_count": 12
        }
      ]
    },
    {
      "cell_type": "code",
      "source": [
        "df.images[0].shape"
      ],
      "metadata": {
        "colab": {
          "base_uri": "https://localhost:8080/"
        },
        "id": "XbEib8IsFiL3",
        "outputId": "e05e2d46-11cd-4ad1-cf79-a51c435ee9f1"
      },
      "execution_count": 13,
      "outputs": [
        {
          "output_type": "execute_result",
          "data": {
            "text/plain": [
              "(8, 8)"
            ]
          },
          "metadata": {},
          "execution_count": 13
        }
      ]
    },
    {
      "cell_type": "code",
      "source": [
        "len(df.images)"
      ],
      "metadata": {
        "colab": {
          "base_uri": "https://localhost:8080/"
        },
        "id": "WwF62L9MFqFG",
        "outputId": "1434a1ff-274f-4ce7-907d-9b927bbc6f44"
      },
      "execution_count": 14,
      "outputs": [
        {
          "output_type": "execute_result",
          "data": {
            "text/plain": [
              "1797"
            ]
          },
          "metadata": {},
          "execution_count": 14
        }
      ]
    },
    {
      "cell_type": "markdown",
      "source": [
        "Data Preprocessing:"
      ],
      "metadata": {
        "id": "1uNTRoC4xG5o"
      }
    },
    {
      "cell_type": "code",
      "source": [
        "n_samples = len(df.images)\n",
        "data = df.images.reshape((n_samples, -1))"
      ],
      "metadata": {
        "id": "eXzGy3EfFsMz"
      },
      "execution_count": 15,
      "outputs": []
    },
    {
      "cell_type": "code",
      "source": [
        "data[0]"
      ],
      "metadata": {
        "colab": {
          "base_uri": "https://localhost:8080/"
        },
        "id": "zQ4DPwBaF8h-",
        "outputId": "eccdc04c-f8a4-45c6-c884-d85bc674d69f"
      },
      "execution_count": 16,
      "outputs": [
        {
          "output_type": "execute_result",
          "data": {
            "text/plain": [
              "array([ 0.,  0.,  5., 13.,  9.,  1.,  0.,  0.,  0.,  0., 13., 15., 10.,\n",
              "       15.,  5.,  0.,  0.,  3., 15.,  2.,  0., 11.,  8.,  0.,  0.,  4.,\n",
              "       12.,  0.,  0.,  8.,  8.,  0.,  0.,  5.,  8.,  0.,  0.,  9.,  8.,\n",
              "        0.,  0.,  4., 11.,  0.,  1., 12.,  7.,  0.,  0.,  2., 14.,  5.,\n",
              "       10., 12.,  0.,  0.,  0.,  0.,  6., 13., 10.,  0.,  0.,  0.])"
            ]
          },
          "metadata": {},
          "execution_count": 16
        }
      ]
    },
    {
      "cell_type": "code",
      "source": [
        "data[0].shape"
      ],
      "metadata": {
        "colab": {
          "base_uri": "https://localhost:8080/"
        },
        "id": "Y31xoUxVGCv1",
        "outputId": "aefa5ac3-6527-4911-ffc1-6f23bf77d746"
      },
      "execution_count": 17,
      "outputs": [
        {
          "output_type": "execute_result",
          "data": {
            "text/plain": [
              "(64,)"
            ]
          },
          "metadata": {},
          "execution_count": 17
        }
      ]
    },
    {
      "cell_type": "code",
      "source": [
        "data.shape"
      ],
      "metadata": {
        "colab": {
          "base_uri": "https://localhost:8080/"
        },
        "id": "AzDKtCT2GE9Q",
        "outputId": "6ecf103b-0ed1-4395-8566-21881cccea72"
      },
      "execution_count": 18,
      "outputs": [
        {
          "output_type": "execute_result",
          "data": {
            "text/plain": [
              "(1797, 64)"
            ]
          },
          "metadata": {},
          "execution_count": 18
        }
      ]
    },
    {
      "cell_type": "code",
      "source": [
        "data.min()"
      ],
      "metadata": {
        "colab": {
          "base_uri": "https://localhost:8080/"
        },
        "id": "j-hy3lnNGGzt",
        "outputId": "92284380-eb37-4f21-9a83-20f7b02482df"
      },
      "execution_count": 19,
      "outputs": [
        {
          "output_type": "execute_result",
          "data": {
            "text/plain": [
              "0.0"
            ]
          },
          "metadata": {},
          "execution_count": 19
        }
      ]
    },
    {
      "cell_type": "code",
      "source": [
        "data.max()"
      ],
      "metadata": {
        "colab": {
          "base_uri": "https://localhost:8080/"
        },
        "id": "_rROIAm5GKs8",
        "outputId": "d8e29089-b643-4237-8a0a-472fb658af53"
      },
      "execution_count": 20,
      "outputs": [
        {
          "output_type": "execute_result",
          "data": {
            "text/plain": [
              "16.0"
            ]
          },
          "metadata": {},
          "execution_count": 20
        }
      ]
    },
    {
      "cell_type": "code",
      "source": [
        "data=data/16"
      ],
      "metadata": {
        "id": "4UluVNhBGMDj"
      },
      "execution_count": 21,
      "outputs": []
    },
    {
      "cell_type": "code",
      "source": [
        "data.min()"
      ],
      "metadata": {
        "colab": {
          "base_uri": "https://localhost:8080/"
        },
        "id": "GJzjI_zXGQ0L",
        "outputId": "1ce44921-9ac3-4d27-cb83-d39b6d59a9c8"
      },
      "execution_count": 22,
      "outputs": [
        {
          "output_type": "execute_result",
          "data": {
            "text/plain": [
              "0.0"
            ]
          },
          "metadata": {},
          "execution_count": 22
        }
      ]
    },
    {
      "cell_type": "code",
      "source": [
        "data.max()"
      ],
      "metadata": {
        "colab": {
          "base_uri": "https://localhost:8080/"
        },
        "id": "fua08e0hGSHp",
        "outputId": "e139f279-fb3a-4721-a289-f3cf379ed732"
      },
      "execution_count": 23,
      "outputs": [
        {
          "output_type": "execute_result",
          "data": {
            "text/plain": [
              "1.0"
            ]
          },
          "metadata": {},
          "execution_count": 23
        }
      ]
    },
    {
      "cell_type": "code",
      "source": [
        "data[0]"
      ],
      "metadata": {
        "colab": {
          "base_uri": "https://localhost:8080/"
        },
        "id": "jw5O9CKAGX5z",
        "outputId": "ebb7a249-29ff-4358-e622-1f3af4322cfe"
      },
      "execution_count": 24,
      "outputs": [
        {
          "output_type": "execute_result",
          "data": {
            "text/plain": [
              "array([0.    , 0.    , 0.3125, 0.8125, 0.5625, 0.0625, 0.    , 0.    ,\n",
              "       0.    , 0.    , 0.8125, 0.9375, 0.625 , 0.9375, 0.3125, 0.    ,\n",
              "       0.    , 0.1875, 0.9375, 0.125 , 0.    , 0.6875, 0.5   , 0.    ,\n",
              "       0.    , 0.25  , 0.75  , 0.    , 0.    , 0.5   , 0.5   , 0.    ,\n",
              "       0.    , 0.3125, 0.5   , 0.    , 0.    , 0.5625, 0.5   , 0.    ,\n",
              "       0.    , 0.25  , 0.6875, 0.    , 0.0625, 0.75  , 0.4375, 0.    ,\n",
              "       0.    , 0.125 , 0.875 , 0.3125, 0.625 , 0.75  , 0.    , 0.    ,\n",
              "       0.    , 0.    , 0.375 , 0.8125, 0.625 , 0.    , 0.    , 0.    ])"
            ]
          },
          "metadata": {},
          "execution_count": 24
        }
      ]
    },
    {
      "cell_type": "markdown",
      "source": [
        "Define Target Variable (y) and Feature Variables (X):\n",
        "\n",
        "X = data\n",
        "\n",
        "y = df.target"
      ],
      "metadata": {
        "id": "sXPKSXXFyTOD"
      }
    },
    {
      "cell_type": "markdown",
      "source": [
        "Train Test Split:"
      ],
      "metadata": {
        "id": "7hb8FpBKxX-J"
      }
    },
    {
      "cell_type": "code",
      "source": [
        "x_train, x_test,y_train,y_test = train_test_split(data,df.target, test_size=0.3)"
      ],
      "metadata": {
        "id": "ZF2f7OXCH0oF"
      },
      "execution_count": 25,
      "outputs": []
    },
    {
      "cell_type": "code",
      "source": [
        "x_train.shape,x_test.shape,y_train.shape,y_test.shape"
      ],
      "metadata": {
        "colab": {
          "base_uri": "https://localhost:8080/"
        },
        "id": "LyiamQXYIG84",
        "outputId": "83a10698-1fd5-4acd-9454-6bf1ff43dfed"
      },
      "execution_count": 26,
      "outputs": [
        {
          "output_type": "execute_result",
          "data": {
            "text/plain": [
              "((1257, 64), (540, 64), (1257,), (540,))"
            ]
          },
          "metadata": {},
          "execution_count": 26
        }
      ]
    },
    {
      "cell_type": "markdown",
      "source": [
        "Modeling:"
      ],
      "metadata": {
        "id": "ICr0R2_VxdTB"
      }
    },
    {
      "cell_type": "code",
      "source": [
        "rf = RandomForestClassifier()"
      ],
      "metadata": {
        "id": "n5QS9qO8Ig6k"
      },
      "execution_count": 27,
      "outputs": []
    },
    {
      "cell_type": "code",
      "source": [
        "rf.fit(x_train,y_train)"
      ],
      "metadata": {
        "colab": {
          "base_uri": "https://localhost:8080/",
          "height": 74
        },
        "id": "K6uIGcc_IkSE",
        "outputId": "67d27746-9a57-48de-f244-668be4dabf2e"
      },
      "execution_count": 28,
      "outputs": [
        {
          "output_type": "execute_result",
          "data": {
            "text/plain": [
              "RandomForestClassifier()"
            ],
            "text/html": [
              "<style>#sk-container-id-1 {color: black;background-color: white;}#sk-container-id-1 pre{padding: 0;}#sk-container-id-1 div.sk-toggleable {background-color: white;}#sk-container-id-1 label.sk-toggleable__label {cursor: pointer;display: block;width: 100%;margin-bottom: 0;padding: 0.3em;box-sizing: border-box;text-align: center;}#sk-container-id-1 label.sk-toggleable__label-arrow:before {content: \"▸\";float: left;margin-right: 0.25em;color: #696969;}#sk-container-id-1 label.sk-toggleable__label-arrow:hover:before {color: black;}#sk-container-id-1 div.sk-estimator:hover label.sk-toggleable__label-arrow:before {color: black;}#sk-container-id-1 div.sk-toggleable__content {max-height: 0;max-width: 0;overflow: hidden;text-align: left;background-color: #f0f8ff;}#sk-container-id-1 div.sk-toggleable__content pre {margin: 0.2em;color: black;border-radius: 0.25em;background-color: #f0f8ff;}#sk-container-id-1 input.sk-toggleable__control:checked~div.sk-toggleable__content {max-height: 200px;max-width: 100%;overflow: auto;}#sk-container-id-1 input.sk-toggleable__control:checked~label.sk-toggleable__label-arrow:before {content: \"▾\";}#sk-container-id-1 div.sk-estimator input.sk-toggleable__control:checked~label.sk-toggleable__label {background-color: #d4ebff;}#sk-container-id-1 div.sk-label input.sk-toggleable__control:checked~label.sk-toggleable__label {background-color: #d4ebff;}#sk-container-id-1 input.sk-hidden--visually {border: 0;clip: rect(1px 1px 1px 1px);clip: rect(1px, 1px, 1px, 1px);height: 1px;margin: -1px;overflow: hidden;padding: 0;position: absolute;width: 1px;}#sk-container-id-1 div.sk-estimator {font-family: monospace;background-color: #f0f8ff;border: 1px dotted black;border-radius: 0.25em;box-sizing: border-box;margin-bottom: 0.5em;}#sk-container-id-1 div.sk-estimator:hover {background-color: #d4ebff;}#sk-container-id-1 div.sk-parallel-item::after {content: \"\";width: 100%;border-bottom: 1px solid gray;flex-grow: 1;}#sk-container-id-1 div.sk-label:hover label.sk-toggleable__label {background-color: #d4ebff;}#sk-container-id-1 div.sk-serial::before {content: \"\";position: absolute;border-left: 1px solid gray;box-sizing: border-box;top: 0;bottom: 0;left: 50%;z-index: 0;}#sk-container-id-1 div.sk-serial {display: flex;flex-direction: column;align-items: center;background-color: white;padding-right: 0.2em;padding-left: 0.2em;position: relative;}#sk-container-id-1 div.sk-item {position: relative;z-index: 1;}#sk-container-id-1 div.sk-parallel {display: flex;align-items: stretch;justify-content: center;background-color: white;position: relative;}#sk-container-id-1 div.sk-item::before, #sk-container-id-1 div.sk-parallel-item::before {content: \"\";position: absolute;border-left: 1px solid gray;box-sizing: border-box;top: 0;bottom: 0;left: 50%;z-index: -1;}#sk-container-id-1 div.sk-parallel-item {display: flex;flex-direction: column;z-index: 1;position: relative;background-color: white;}#sk-container-id-1 div.sk-parallel-item:first-child::after {align-self: flex-end;width: 50%;}#sk-container-id-1 div.sk-parallel-item:last-child::after {align-self: flex-start;width: 50%;}#sk-container-id-1 div.sk-parallel-item:only-child::after {width: 0;}#sk-container-id-1 div.sk-dashed-wrapped {border: 1px dashed gray;margin: 0 0.4em 0.5em 0.4em;box-sizing: border-box;padding-bottom: 0.4em;background-color: white;}#sk-container-id-1 div.sk-label label {font-family: monospace;font-weight: bold;display: inline-block;line-height: 1.2em;}#sk-container-id-1 div.sk-label-container {text-align: center;}#sk-container-id-1 div.sk-container {/* jupyter's `normalize.less` sets `[hidden] { display: none; }` but bootstrap.min.css set `[hidden] { display: none !important; }` so we also need the `!important` here to be able to override the default hidden behavior on the sphinx rendered scikit-learn.org. See: https://github.com/scikit-learn/scikit-learn/issues/21755 */display: inline-block !important;position: relative;}#sk-container-id-1 div.sk-text-repr-fallback {display: none;}</style><div id=\"sk-container-id-1\" class=\"sk-top-container\"><div class=\"sk-text-repr-fallback\"><pre>RandomForestClassifier()</pre><b>In a Jupyter environment, please rerun this cell to show the HTML representation or trust the notebook. <br />On GitHub, the HTML representation is unable to render, please try loading this page with nbviewer.org.</b></div><div class=\"sk-container\" hidden><div class=\"sk-item\"><div class=\"sk-estimator sk-toggleable\"><input class=\"sk-toggleable__control sk-hidden--visually\" id=\"sk-estimator-id-1\" type=\"checkbox\" checked><label for=\"sk-estimator-id-1\" class=\"sk-toggleable__label sk-toggleable__label-arrow\">RandomForestClassifier</label><div class=\"sk-toggleable__content\"><pre>RandomForestClassifier()</pre></div></div></div></div></div>"
            ]
          },
          "metadata": {},
          "execution_count": 28
        }
      ]
    },
    {
      "cell_type": "markdown",
      "source": [
        "Model Evaluation:"
      ],
      "metadata": {
        "id": "SD4yL9Zwxjxv"
      }
    },
    {
      "cell_type": "code",
      "source": [
        "y_pred = rf.predict(x_test)"
      ],
      "metadata": {
        "id": "GvOgeuN1IqGI"
      },
      "execution_count": 29,
      "outputs": []
    },
    {
      "cell_type": "code",
      "source": [
        "y_pred"
      ],
      "metadata": {
        "colab": {
          "base_uri": "https://localhost:8080/"
        },
        "id": "0tOn4PylIxh2",
        "outputId": "337c0a74-f6be-41ac-9e22-e4c0b983eb8c"
      },
      "execution_count": 30,
      "outputs": [
        {
          "output_type": "execute_result",
          "data": {
            "text/plain": [
              "array([5, 5, 4, 1, 9, 5, 8, 8, 7, 5, 2, 6, 9, 4, 7, 5, 2, 1, 4, 4, 8, 0,\n",
              "       9, 0, 5, 1, 3, 6, 1, 4, 5, 7, 8, 7, 3, 8, 5, 6, 1, 2, 0, 2, 1, 1,\n",
              "       8, 4, 6, 1, 8, 3, 8, 7, 1, 4, 2, 1, 3, 8, 4, 7, 3, 3, 9, 3, 9, 7,\n",
              "       9, 8, 0, 2, 2, 3, 8, 3, 1, 3, 7, 5, 6, 7, 2, 3, 2, 3, 7, 1, 0, 0,\n",
              "       9, 0, 5, 4, 9, 7, 1, 0, 8, 8, 3, 9, 1, 4, 8, 6, 8, 7, 3, 0, 1, 4,\n",
              "       0, 9, 5, 6, 8, 1, 1, 1, 9, 7, 1, 9, 0, 4, 9, 2, 5, 0, 1, 2, 2, 3,\n",
              "       9, 0, 0, 2, 6, 3, 0, 3, 7, 4, 1, 4, 4, 5, 4, 4, 8, 3, 8, 4, 7, 6,\n",
              "       7, 2, 0, 7, 5, 1, 5, 9, 8, 1, 0, 6, 7, 3, 2, 9, 5, 7, 1, 0, 8, 5,\n",
              "       0, 0, 5, 7, 1, 1, 5, 3, 6, 5, 3, 3, 5, 9, 4, 9, 9, 0, 5, 9, 3, 7,\n",
              "       2, 8, 5, 5, 4, 6, 8, 6, 1, 6, 7, 6, 1, 0, 4, 3, 8, 8, 9, 9, 8, 6,\n",
              "       8, 6, 9, 4, 5, 3, 0, 4, 5, 3, 6, 0, 6, 9, 3, 8, 5, 3, 9, 5, 2, 0,\n",
              "       7, 0, 3, 1, 3, 9, 9, 9, 5, 2, 1, 4, 6, 6, 6, 3, 8, 6, 3, 2, 0, 3,\n",
              "       3, 3, 5, 2, 9, 6, 3, 8, 4, 8, 0, 8, 9, 8, 2, 6, 8, 2, 3, 4, 4, 1,\n",
              "       0, 2, 1, 4, 9, 5, 3, 6, 6, 8, 7, 5, 7, 0, 7, 6, 6, 8, 7, 3, 3, 2,\n",
              "       3, 0, 1, 7, 6, 8, 1, 9, 7, 2, 7, 2, 4, 9, 1, 3, 0, 4, 8, 9, 7, 8,\n",
              "       5, 2, 6, 0, 6, 6, 0, 1, 1, 5, 2, 8, 9, 9, 5, 4, 0, 3, 7, 0, 3, 6,\n",
              "       0, 4, 2, 5, 6, 2, 0, 4, 7, 1, 0, 3, 4, 8, 8, 0, 4, 7, 3, 7, 9, 9,\n",
              "       0, 9, 3, 9, 4, 9, 1, 4, 1, 3, 1, 7, 3, 4, 9, 0, 5, 8, 7, 7, 0, 9,\n",
              "       6, 9, 7, 9, 9, 2, 6, 7, 9, 3, 3, 0, 9, 0, 9, 7, 0, 8, 9, 3, 4, 3,\n",
              "       9, 4, 1, 1, 1, 6, 4, 8, 5, 7, 3, 4, 1, 9, 0, 5, 2, 0, 0, 1, 3, 9,\n",
              "       2, 9, 9, 3, 3, 8, 9, 6, 1, 2, 5, 6, 8, 5, 0, 3, 8, 0, 1, 9, 0, 1,\n",
              "       9, 7, 3, 4, 4, 2, 9, 9, 9, 0, 9, 4, 4, 5, 1, 5, 1, 7, 3, 0, 6, 6,\n",
              "       9, 4, 3, 6, 0, 3, 4, 2, 0, 2, 7, 6, 0, 2, 2, 5, 4, 2, 2, 1, 0, 3,\n",
              "       5, 9, 0, 6, 4, 0, 2, 3, 3, 0, 9, 4, 7, 7, 5, 4, 3, 7, 1, 0, 5, 4,\n",
              "       7, 2, 1, 1, 7, 1, 4, 3, 2, 5, 9, 0])"
            ]
          },
          "metadata": {},
          "execution_count": 30
        }
      ]
    },
    {
      "cell_type": "code",
      "source": [
        "confusion_matrix(y_test,y_pred)"
      ],
      "metadata": {
        "colab": {
          "base_uri": "https://localhost:8080/"
        },
        "id": "b-LM1u1LI0o9",
        "outputId": "659f54f9-131f-4e2a-f003-47eb7769a934"
      },
      "execution_count": 31,
      "outputs": [
        {
          "output_type": "execute_result",
          "data": {
            "text/plain": [
              "array([[62,  0,  0,  0,  1,  0,  0,  0,  0,  0],\n",
              "       [ 0, 52,  0,  0,  0,  0,  0,  0,  0,  0],\n",
              "       [ 1,  1, 42,  0,  0,  0,  0,  0,  0,  0],\n",
              "       [ 0,  1,  0, 66,  0,  1,  0,  0,  0,  0],\n",
              "       [ 0,  0,  0,  0, 52,  0,  0,  1,  0,  0],\n",
              "       [ 0,  0,  0,  1,  1, 47,  1,  0,  1,  0],\n",
              "       [ 0,  1,  0,  0,  0,  0, 44,  0,  0,  0],\n",
              "       [ 0,  0,  0,  0,  0,  0,  0, 49,  0,  0],\n",
              "       [ 0,  1,  2,  0,  0,  0,  0,  0, 44,  0],\n",
              "       [ 0,  0,  0,  0,  0,  0,  0,  0,  2, 66]])"
            ]
          },
          "metadata": {},
          "execution_count": 31
        }
      ]
    },
    {
      "cell_type": "code",
      "source": [
        "print(classification_report(y_test,y_pred))"
      ],
      "metadata": {
        "colab": {
          "base_uri": "https://localhost:8080/"
        },
        "id": "QqnjQIEDJN5O",
        "outputId": "02407bb5-e78e-440a-e7f1-c5b28959261c"
      },
      "execution_count": 32,
      "outputs": [
        {
          "output_type": "stream",
          "name": "stdout",
          "text": [
            "              precision    recall  f1-score   support\n",
            "\n",
            "           0       0.98      0.98      0.98        63\n",
            "           1       0.93      1.00      0.96        52\n",
            "           2       0.95      0.95      0.95        44\n",
            "           3       0.99      0.97      0.98        68\n",
            "           4       0.96      0.98      0.97        53\n",
            "           5       0.98      0.92      0.95        51\n",
            "           6       0.98      0.98      0.98        45\n",
            "           7       0.98      1.00      0.99        49\n",
            "           8       0.94      0.94      0.94        47\n",
            "           9       1.00      0.97      0.99        68\n",
            "\n",
            "    accuracy                           0.97       540\n",
            "   macro avg       0.97      0.97      0.97       540\n",
            "weighted avg       0.97      0.97      0.97       540\n",
            "\n"
          ]
        }
      ]
    },
    {
      "cell_type": "markdown",
      "source": [
        "Prediction:"
      ],
      "metadata": {
        "id": "QSNTHYdMzDwK"
      }
    },
    {
      "cell_type": "code",
      "source": [
        "\n",
        "new_digit = [[0, 0, 0, 0, 0, 0, 0, 0, 0, 0],\n",
        "             [0, 0, 0, 0, 0, 0, 0, 0, 0, 0],\n",
        "             [0, 0, 0, 0, 0, 0, 0, 0, 0, 0],\n",
        "             [0, 0, 0, 1, 1, 0, 0, 0, 0, 0],\n",
        "             [0, 0, 0, 1, 1, 0, 0, 0, 0, 0],\n",
        "             [0, 0, 0, 0, 0, 0, 0, 0, 0, 0],\n",
        "             [0, 0, 0, 0, 0, 0, 0, 0, 0, 0],\n",
        "             [0, 0, 0, 0, 0, 0, 0, 0, 0, 0],\n",
        "             [0, 0, 0, 0, 0, 0, 0, 0, 0, 0],\n",
        "             [0, 0, 0, 0, 0, 0, 0, 0, 0, 0]]\n",
        "\n",
        "\n",
        "new_digit = np.array(new_digit)\n",
        "\n",
        "\n",
        "new_digit_resized = resize(new_digit, (8, 8), anti_aliasing=True)\n",
        "\n",
        "\n",
        "new_digit_resized = new_digit_resized.flatten() / 16\n",
        "\n",
        "\n",
        "predicted_digit = rf.predict([new_digit_resized])\n",
        "\n",
        "\n",
        "print(\"Predicted digit:\", predicted_digit)"
      ],
      "metadata": {
        "colab": {
          "base_uri": "https://localhost:8080/"
        },
        "id": "mZSIHg-_zNjC",
        "outputId": "b60c7d21-9d5e-42a1-8abb-946998d01097"
      },
      "execution_count": 37,
      "outputs": [
        {
          "output_type": "stream",
          "name": "stdout",
          "text": [
            "Predicted digit: [1]\n"
          ]
        }
      ]
    },
    {
      "cell_type": "markdown",
      "source": [
        "Explanation:\n",
        "\n",
        "1. The code begins by importing the necessary libraries and loading the \"load_digits\" dataset. The dataset is then visualized using matplotlib.\n",
        "\n",
        "2. Next, the data is preprocessed by reshaping the images and scaling the pixel values. The target variable (y) and feature variables (X) are defined.\n",
        "\n",
        "3. The data is split into training and testing sets using the train_test_split function.\n",
        "\n",
        "4. A Random Forest Classifier model is created and trained using the training data.\n",
        "\n",
        "5. The model is evaluated by predicting the digits for the test data and calculating the confusion matrix and classification report.\n",
        "\n",
        "Finally, the model can be used for prediction on new handwritten digits by providing the new data to the trained model.\n",
        "\n",
        "\n",
        "\n",
        "\n",
        "\n",
        "\n"
      ],
      "metadata": {
        "id": "oQt_jibkhgwm"
      }
    }
  ]
}